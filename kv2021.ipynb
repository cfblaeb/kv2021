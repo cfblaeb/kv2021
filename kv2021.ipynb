{
 "cells": [
  {
   "cell_type": "code",
   "execution_count": 1,
   "id": "d56c7a79-c97d-435f-87ae-b7deaa466a9d",
   "metadata": {},
   "outputs": [],
   "source": [
    "from requests import get\n",
    "from json import dump, load\n",
    "import pandas as pd"
   ]
  },
  {
   "cell_type": "code",
   "execution_count": 2,
   "id": "70e3c04a-2da0-49fc-8fd1-d808a223a313",
   "metadata": {
    "scrolled": true,
    "tags": []
   },
   "outputs": [],
   "source": [
    "communes=[{\"value\":580,\"label\":'Aabenraa'},{\"value\":851,\"label\":'Aalborg'},{\"value\":751,\"label\":'Aarhus'},{\"value\":165,\"label\":'Albertslund'},{\"value\":201,\"label\":'Allerød'},{\"value\":420,\"label\":'Assens'},{\"value\":151,\"label\":'Ballerup'},{\"value\":530,\"label\":'Billund'},{\"value\":400,\"label\":'Bornholm'},{\"value\":153,\"label\":'Brøndby'},{\"value\":810,\"label\":'Brønderslev'},{\"value\":155,\"label\":'Dragør'},{\"value\":240,\"label\":'Egedal'},{\"value\":561,\"label\":'Esbjerg'},{\"value\":563,\"label\":'Fanø'},{\"value\":710,\"label\":'Favrskov'},{\"value\":320,\"label\":'Faxe'},{\"value\":210,\"label\":'Fredensborg'},{\"value\":607,\"label\":'Fredericia'},{\"value\":147,\"label\":'Frederiksberg'},{\"value\":813,\"label\":'Frederikshavn'},{\"value\":250,\"label\":'Frederikssund'},{\"value\":190,\"label\":'Furesø'},{\"value\":430,\"label\":'Faaborg-Midtfyn'},{\"value\":157,\"label\":'Gentofte'},{\"value\":159,\"label\":'Gladsaxe'},{\"value\":161,\"label\":'Glostrup'},{\"value\":253,\"label\":'Greve'},{\"value\":270,\"label\":'Gribskov'},{\"value\":376,\"label\":'Guldborgsund'},{\"value\":510,\"label\":'Haderslev'},{\"value\":260,\"label\":'Halsnæs'},{\"value\":766,\"label\":'Hedensted'},{\"value\":217,\"label\":'Helsingør'},{\"value\":163,\"label\":'Herlev'},{\"value\":657,\"label\":'Herning'},{\"value\":219,\"label\":'Hillerød'},{\"value\":860,\"label\":'Hjørring'},{\"value\":316,\"label\":'Holbæk'},{\"value\":661,\"label\":'Holstebro'},{\"value\":615,\"label\":'Horsens'},{\"value\":167,\"label\":'Hvidovre'},{\"value\":169,\"label\":'Høje-Taastrup'},{\"value\":223,\"label\":'Hørsholm'},{\"value\":756,\"label\":'Ikast-Brande'},{\"value\":183,\"label\":'Ishøj'},{\"value\":849,\"label\":'Jammerbugt'},{\"value\":326,\"label\":'Kalundborg'},{\"value\":440,\"label\":'Kerteminde'},{\"value\":621,\"label\":'Kolding'},{\"value\":101,\"label\":'København'},{\"value\":259,\"label\":'Køge'},{\"value\":482,\"label\":'Langeland'},{\"value\":350,\"label\":'Lejre'},{\"value\":665,\"label\":'Lemvig'},{\"value\":360,\"label\":'Lolland'},{\"value\":173,\"label\":'Lyngby-Taarbæk'},{\"value\":825,\"label\":'Læsø'},{\"value\":846,\"label\":'Mariagerfjord'},{\"value\":410,\"label\":'Middelfart'},{\"value\":773,\"label\":'Morsø'},{\"value\":707,\"label\":'Norddjurs'},{\"value\":480,\"label\":'Nordfyns'},{\"value\":450,\"label\":'Nyborg'},{\"value\":370,\"label\":'Næstved'},{\"value\":727,\"label\":'Odder'},{\"value\":461,\"label\":'Odense'},{\"value\":306,\"label\":'Odsherred'},{\"value\":730,\"label\":'Randers'},{\"value\":840,\"label\":'Rebild'},{\"value\":760,\"label\":'Ringkøbing-Skjern'},{\"value\":329,\"label\":'Ringsted'},{\"value\":265,\"label\":'Roskilde'},{\"value\":230,\"label\":'Rudersdal'},{\"value\":175,\"label\":'Rødovre'},{\"value\":741,\"label\":'Samsø'},{\"value\":740,\"label\":'Silkeborg'},{\"value\":746,\"label\":'Skanderborg'},{\"value\":779,\"label\":'Skive'},{\"value\":330,\"label\":'Slagelse'},{\"value\":269,\"label\":'Solrød'},{\"value\":340,\"label\":'Sorø'},{\"value\":336,\"label\":'Stevns'},{\"value\":671,\"label\":'Struer'},{\"value\":479,\"label\":'Svendborg'},{\"value\":706,\"label\":'Syddjurs'},{\"value\":540,\"label\":'Sønderborg'},{\"value\":787,\"label\":'Thisted'},{\"value\":550,\"label\":'Tønder'},{\"value\":185,\"label\":'Tårnby'},{\"value\":187,\"label\":'Vallensbæk'},{\"value\":573,\"label\":'Varde'},{\"value\":575,\"label\":'Vejen'},{\"value\":630,\"label\":'Vejle'},{\"value\":820,\"label\":'Vesthimmerlands'},{\"value\":791,\"label\":'Viborg'},{\"value\":390,\"label\":'Vordingborg'},{\"value\":492,\"label\":'Ærø'},]"
   ]
  },
  {
   "cell_type": "code",
   "execution_count": 3,
   "id": "096a7bf0-5fef-4ae8-ae6d-d6d219f90565",
   "metadata": {
    "scrolled": true,
    "tags": []
   },
   "outputs": [
    {
     "name": "stdout",
     "output_type": "stream",
     "text": [
      "580 Aabenraa\n",
      "851 Aalborg\n",
      "751 Aarhus\n",
      "165 Albertslund\n",
      "201 Allerød\n",
      "420 Assens\n",
      "151 Ballerup\n",
      "530 Billund\n",
      "400 Bornholm\n",
      "153 Brøndby\n",
      "810 Brønderslev\n",
      "155 Dragør\n",
      "240 Egedal\n",
      "561 Esbjerg\n",
      "563 Fanø\n",
      "710 Favrskov\n",
      "320 Faxe\n",
      "210 Fredensborg\n",
      "607 Fredericia\n",
      "147 Frederiksberg\n",
      "813 Frederikshavn\n",
      "250 Frederikssund\n",
      "190 Furesø\n",
      "430 Faaborg-Midtfyn\n",
      "157 Gentofte\n",
      "159 Gladsaxe\n",
      "161 Glostrup\n",
      "253 Greve\n",
      "270 Gribskov\n",
      "376 Guldborgsund\n",
      "510 Haderslev\n",
      "260 Halsnæs\n",
      "766 Hedensted\n",
      "217 Helsingør\n",
      "163 Herlev\n",
      "657 Herning\n",
      "219 Hillerød\n",
      "860 Hjørring\n",
      "316 Holbæk\n",
      "661 Holstebro\n",
      "615 Horsens\n",
      "167 Hvidovre\n",
      "169 Høje-Taastrup\n",
      "223 Hørsholm\n",
      "756 Ikast-Brande\n",
      "183 Ishøj\n",
      "849 Jammerbugt\n",
      "326 Kalundborg\n",
      "440 Kerteminde\n",
      "621 Kolding\n",
      "101 København\n",
      "259 Køge\n",
      "482 Langeland\n",
      "350 Lejre\n",
      "665 Lemvig\n",
      "360 Lolland\n",
      "173 Lyngby-Taarbæk\n",
      "825 Læsø\n",
      "846 Mariagerfjord\n",
      "410 Middelfart\n",
      "773 Morsø\n",
      "707 Norddjurs\n",
      "480 Nordfyns\n",
      "450 Nyborg\n",
      "370 Næstved\n",
      "727 Odder\n",
      "461 Odense\n",
      "306 Odsherred\n",
      "730 Randers\n",
      "840 Rebild\n",
      "760 Ringkøbing-Skjern\n",
      "329 Ringsted\n",
      "265 Roskilde\n",
      "230 Rudersdal\n",
      "175 Rødovre\n",
      "741 Samsø\n",
      "740 Silkeborg\n",
      "746 Skanderborg\n",
      "779 Skive\n",
      "330 Slagelse\n",
      "269 Solrød\n",
      "340 Sorø\n",
      "336 Stevns\n",
      "671 Struer\n",
      "479 Svendborg\n",
      "706 Syddjurs\n",
      "540 Sønderborg\n",
      "787 Thisted\n",
      "550 Tønder\n",
      "185 Tårnby\n",
      "187 Vallensbæk\n",
      "573 Varde\n",
      "575 Vejen\n",
      "630 Vejle\n",
      "820 Vesthimmerlands\n",
      "791 Viborg\n",
      "390 Vordingborg\n",
      "492 Ærø\n"
     ]
    }
   ],
   "source": [
    "svar = {}\n",
    "for kommune in communes:\n",
    "    print(kommune['value'], kommune['label'])\n",
    "    res = get(f\"https://election-api.services.tv2.dk/kv/3/candidatetest/answers/{kommune['value']}\")\n",
    "    svar[kommune['label']] = res.json()\n",
    "#gem svarerne\n",
    "dump(svar, open('alle_svar.json', 'w'))\n",
    "#svar = load(open('alle_svar.json'))"
   ]
  },
  {
   "cell_type": "code",
   "execution_count": 4,
   "id": "31f62c1d-c5bb-43cc-874a-081519649d10",
   "metadata": {},
   "outputs": [],
   "source": [
    "dk_spg = ['kv21-danmark-1','kv21-danmark-2','kv21-danmark-3','kv21-danmark-4','kv21-danmark-5','kv21-danmark-6','kv21-danmark-7','kv21-danmark-8','kv21-danmark-9','kv21-danmark-10','kv21-danmark-11','kv21-danmark-12','kv21-danmark-13','kv21-danmark-14','kv21-danmark-15','kv21-danmark-16','kv21-danmark-17','kv21-danmark-18','kv21-danmark-19','kv21-danmark-20']"
   ]
  },
  {
   "cell_type": "code",
   "execution_count": 5,
   "id": "6c224cad-b0fb-4ad3-92a3-cbeaa674fdf1",
   "metadata": {},
   "outputs": [],
   "source": [
    "dk_svar = {}\n",
    "dk_kandidater = {}\n",
    "for kommune, kandidater in svar.items():\n",
    "    for kandidat in kandidater:\n",
    "        dk_kandidater[kandidat['id']] = {'navn': kandidat['name'], 'kommune': kandidat['areaName'], 'parti': kandidat['partyName'], 'alder': kandidat['age']}\n",
    "        dk_svar[kandidat['id']] = {x: kandidat['answers'][x]['answer'] for x in dk_spg if x in kandidat['answers']}"
   ]
  },
  {
   "cell_type": "code",
   "execution_count": 6,
   "id": "fc381473-9c3a-425d-b345-907c985eec2f",
   "metadata": {},
   "outputs": [],
   "source": [
    "dk_kandidater = pd.DataFrame(dk_kandidater).T\n",
    "dk_svar = pd.DataFrame(dk_svar).T"
   ]
  },
  {
   "cell_type": "code",
   "execution_count": 7,
   "id": "b0479e3a-87df-4c38-8458-82cc05a68ab6",
   "metadata": {},
   "outputs": [],
   "source": [
    "q = dk_svar.copy()\n",
    "q['parti'] = [dk_kandidater.loc[x, 'parti'] for x in dk_svar.index]\n",
    "q['navn'] = [dk_kandidater.loc[x, 'navn'] for x in dk_svar.index]\n",
    "q['kommune'] = [dk_kandidater.loc[x, 'kommune'] for x in dk_svar.index]\n",
    "q['alder'] = [dk_kandidater.loc[x, 'alder'] for x in dk_svar.index]\n",
    "q = q.reset_index()"
   ]
  },
  {
   "cell_type": "code",
   "execution_count": 8,
   "id": "41a39c9b-7915-4ff5-97e6-3fb9cc3eba82",
   "metadata": {},
   "outputs": [],
   "source": [
    "parti_linjen = q.groupby('parti')[dk_spg].mean()\n",
    "\n",
    "def fald_ind(x):\n",
    "    x.loc[x[x.isna()].index] = parti_linjen.loc[x.parti, x[x.isna()].index]\n",
    "    return x\n",
    "    \n",
    "q = q.apply(fald_ind, axis=1)"
   ]
  },
  {
   "cell_type": "code",
   "execution_count": 9,
   "id": "35e725eb-c66c-44b4-a900-0d858e96d13b",
   "metadata": {},
   "outputs": [],
   "source": [
    "q.to_feather(\"kv2021_Lasse_data.feather\")"
   ]
  },
  {
   "cell_type": "code",
   "execution_count": 7,
   "id": "6ac02698-894b-439a-b4f9-302907b407b3",
   "metadata": {
    "pycharm": {
     "name": "#%%"
    }
   },
   "outputs": [],
   "source": []
  }
 ],
 "metadata": {
  "kernelspec": {
   "display_name": "Python 3 (ipykernel)",
   "language": "python",
   "name": "python3"
  },
  "language_info": {
   "codemirror_mode": {
    "name": "ipython",
    "version": 3
   },
   "file_extension": ".py",
   "mimetype": "text/x-python",
   "name": "python",
   "nbconvert_exporter": "python",
   "pygments_lexer": "ipython3",
   "version": "3.9.7"
  }
 },
 "nbformat": 4,
 "nbformat_minor": 5
}