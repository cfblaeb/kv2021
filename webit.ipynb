{
 "cells": [
  {
   "cell_type": "code",
   "execution_count": 15,
   "metadata": {},
   "outputs": [],
   "source": [
    "from jupyter_dash import JupyterDash\n",
    "from dash import dcc, html, exceptions, callback_context\n",
    "from dash.dependencies import Input, Output\n",
    "import dash_daq as daq\n",
    "import plotly.express as px\n",
    "import plotly.graph_objects as go\n",
    "import pandas as pd\n",
    "from sklearn.discriminant_analysis import LinearDiscriminantAnalysis\n",
    "from sklearn.decomposition import PCA\n",
    "import numpy as np\n",
    "from json import load"
   ]
  },
  {
   "cell_type": "code",
   "execution_count": 2,
   "metadata": {},
   "outputs": [],
   "source": [
    "df = pd.read_feather(\"kv2021_Lasse_data.feather\")"
   ]
  },
  {
   "cell_type": "code",
   "execution_count": 104,
   "metadata": {},
   "outputs": [],
   "source": [
    "store_partier = ['Det Konservative Folkeparti', 'Dansk Folkeparti', 'Enhedslisten', 'Nye Borgerlige', 'Alternativet', 'Socialistisk Folkeparti', 'Liberal Alliance', \n",
    "                 'Socialdemokratiet', 'Kristendemokraterne', 'Venstre', 'Radikale Venstre']\n",
    "små_partier = ['Slesvigsk Parti', 'Frihedslisten', 'Kommunistisk Parti', 'Danmarks Vision', 'Trafikalt Folkeparti', 'Veganerpartiet', 'Kommunisterne',\n",
    "               'Trivsel og Reel Borgerinddragelse', 'De Grønne', 'Partiet Samfundssind', 'Egalitært Folkeparti', 'De LokalNationale', 'SocialKonservative Assens',\n",
    "               'Partiet Ballerup Listen', 'Lokalpolitisk Forum', 'Bornholmerlisten', 'Borgerlisten', 'Sydamagerlisten', 'Tværpolitisk Forening', 'Anne Grønlund',\n",
    "               'Et Samlet Egedal', 'Lokallisten Ny Egedal', 'Nye bogerlige', 'Borgerlisten i Esbjerg Kommune', 'Esbjerglisten', 'Lokallisten', 'Marie Mynche', \n",
    "               'Borgerligt Fællesskab', 'Hvid-sten', 'Havenisse-partiet', 'Bitten Vivi Jensen', 'Volt', 'Forenet Frederikssund', 'Fjordlandslisten', \n",
    "               'Anja Bisp Pedersen', 'Vi Lokale Demokrater', 'Lokallisten Faaborg-Midtfyn', 'Sahar Aslani', 'Lokallisten Gladsaxe', 'Glostrup Borgerliste',\n",
    "               'Bylisten', 'Party Parti', 'nytgribskov', 'Klimapartiet i Gribskov', 'KultureltFokus', 'Guldborgsundlisten', 'Sammenhæng', \n",
    "               'Det Miljø Radikale Parti', 'Elevatorlisten', 'Bella Listen', 'Herlev Listen', 'Frie Danske', 'Maren Spliid Gruppen', 'Miljølisten Horsens', \n",
    "               'Hvidovrelisten', 'Kommunistisk Liste', 'SocialKonservative', 'Fælleslisten', 'Ishøjlisten', 'Annelise Madsen', 'Lokallisten Jammerbugt',\n",
    "               'Frie Lokale', 'Christiania-Listen', 'Københavnerlisten', 'Danmark for Alle', 'Klimapartiet Momentum', \n",
    "               'Kærlighedspartiet (Regnbuefolket / Befri Christiania)', 'Rolig Revolution', 'Bæredygtigt Samfund', 'Det Demokratiske Parti', \n",
    "               'Lokallisten Levende Landsbyer', 'Din Stemme', 'Vestfronten', 'Lokallisten Lolland', 'Nakskov Listen', 'Lokallisten Vores Kommune - LTK',\n",
    "               'Læsø Borgerliste', 'Mariagerfjordlisten', 'Omsorgsgruppen', 'Tværpolitisk Anstændighed', 'PositivPlus', 'Demokratisk Balance',\n",
    "               'Liberaterne', 'Et Bedre Odense', 'Nyt Odsherred', 'Beboerlisten', 'Østbroen', 'Velfærdslisten', 'Den Sociale Fællesliste - Rebild',\n",
    "               'Fjordlisten', 'Michael Phillip Hansen-listen', 'BorgerFokus', 'Carsten Ørum Skytt', 'Deltagerlisten', 'Hanne Stender Damkjær – Partiliste', \n",
    "               'VoresSolrød', 'Havdruplisten', 'Frigængerne', 'Nyt Stevns', 'Helle Wisbech', 'Den Lunefulde Liste', 'Sydfynslisten', 'Borgersammenslutningen',\n",
    "               'Fælleslisten Sønderborg', 'Sten i Skoen', 'Tønder Listen', 'Tårnby Listen', 'VallensbækListen', 'Lokallisten 2017', 'Liberal Borgerliste', \n",
    "               'Liberal Borgerliste Vejle', 'VesthimmerlandsListen', 'Lokallisten - Viborg', 'Hvad kan gå galt', 'Ærø i Centrum', 'Ærøs Fremtid']\n",
    "\n",
    "color_dict = {parti: px.colors.qualitative.Dark24[i%24] for i, parti in enumerate([*store_partier, *små_partier])}\n",
    "\n",
    "dk_spg = ['kv21-danmark-1','kv21-danmark-2','kv21-danmark-3','kv21-danmark-4','kv21-danmark-5','kv21-danmark-6','kv21-danmark-7','kv21-danmark-8','kv21-danmark-9','kv21-danmark-10','kv21-danmark-11','kv21-danmark-12','kv21-danmark-13','kv21-danmark-14','kv21-danmark-15','kv21-danmark-16','kv21-danmark-17','kv21-danmark-18','kv21-danmark-19','kv21-danmark-20']\n",
    "\n",
    "X = df[df.parti.isin(store_partier)][dk_spg]\n",
    "y = df[df.parti.isin(store_partier)]['parti']\n",
    "\n",
    "lda = LinearDiscriminantAnalysis(n_components=2).fit(X, y)\n",
    "\n",
    "q = pd.concat([\n",
    "    df,\n",
    "    pd.DataFrame(lda.transform(df[dk_spg]), columns=[\"X\", \"y\"]).set_index(df.index)],\n",
    "    #pd.DataFrame(PCA(n_components=2).fit_transform(X), columns=[\"X\", \"y\"]).set_index(df.index)],\n",
    "    axis=1)"
   ]
  },
  {
   "cell_type": "code",
   "execution_count": null,
   "metadata": {},
   "outputs": [],
   "source": []
  },
  {
   "cell_type": "code",
   "execution_count": 105,
   "metadata": {},
   "outputs": [],
   "source": [
    "kv2021 = load(open('raw_data/kv2021.json'))\n",
    "spgs = [spg for spg in kv2021 if spg['id'] in dk_spg]\n",
    "svar_muligheder = ['helt uenig','uenig','neutral','enig','helt enig']"
   ]
  },
  {
   "cell_type": "code",
   "execution_count": 106,
   "metadata": {},
   "outputs": [],
   "source": [
    "def confidence_ellipse(x, y, n_std=1.96, size=100):\n",
    "    if x.size != y.size:\n",
    "        raise ValueError(\"x and y must be the same size\")\n",
    "\n",
    "    cov = np.cov(x, y)\n",
    "    pearson = cov[0, 1]/np.sqrt(cov[0, 0] * cov[1, 1])\n",
    "    ell_radius_x = np.sqrt(1 + pearson)\n",
    "    ell_radius_y = np.sqrt(1 - pearson)\n",
    "    theta = np.linspace(0, 2 * np.pi, size)\n",
    "    ellipse_coords = np.column_stack([ell_radius_x * np.cos(theta), ell_radius_y * np.sin(theta)])\n",
    "    x_scale = np.sqrt(cov[0, 0]) * n_std\n",
    "    x_mean = np.mean(x)\n",
    "    y_scale = np.sqrt(cov[1, 1]) * n_std\n",
    "    y_mean = np.mean(y)  \n",
    "    translation_matrix = np.tile([x_mean, y_mean], (ellipse_coords.shape[0], 1))\n",
    "    rotation_matrix = np.array([[np.cos(np.pi / 4), np.sin(np.pi / 4)], [-np.sin(np.pi / 4), np.cos(np.pi / 4)]])\n",
    "    scale_matrix = np.array([[x_scale, 0], [0, y_scale]])\n",
    "    ellipse_coords = ellipse_coords.dot(rotation_matrix).dot(scale_matrix) + translation_matrix\n",
    "    \n",
    "    path = f'M {ellipse_coords[0, 0]}, {ellipse_coords[0, 1]}'\n",
    "    for k in range(1, len(ellipse_coords)):\n",
    "        path += f'L{ellipse_coords[k, 0]}, {ellipse_coords[k, 1]}'\n",
    "    path += ' Z'\n",
    "    return path"
   ]
  },
  {
   "cell_type": "code",
   "execution_count": 149,
   "metadata": {},
   "outputs": [],
   "source": [
    "app = JupyterDash()\n",
    "server = app.server\n",
    "\n",
    "app.layout = html.Div([\n",
    "    html.Label([\n",
    "        \"kommune filter:\",\n",
    "        dcc.Dropdown(id='kommune_valg', options=[{'value':'alle', 'label':'alle'}, *[{'value': x, 'label': x} for x in df.kommune.unique()]], value=['alle',], multi=True)\n",
    "    ]),\n",
    "    html.Label([\n",
    "        \"hurtig vælger af partier. Skift værdi her for hurtigt at sætte parti-listen nedenunder til enten alle partier eller lands partier:\",\n",
    "        dcc.RadioItems(\n",
    "            id='parti_valg',\n",
    "            options=[\n",
    "                {'label': 'Lands partier', 'value': 'LP'},\n",
    "                {'label': 'Alle partier', 'value': 'AP'},\n",
    "                {'label': 'Frit valg', 'value': 'FV'}\n",
    "            ],\n",
    "            value='LP',\n",
    "            labelStyle={'display': 'inline-block'}\n",
    "        )\n",
    "        #dcc.Dropdown(id='parti_valg', options=[{'value': x, 'label': x} for x in ['alle lands-partier', 'alle partier']], value='alle lands-partier')\n",
    "    ]),\n",
    "    html.Label([\n",
    "        \"partier:\",\n",
    "        dcc.Dropdown(id='parti_multi_valg', options=[{'value': x, 'label': x} for x in [*store_partier, *små_partier]], value=store_partier, multi=True)\n",
    "    ]),\n",
    "    daq.BooleanSwitch(\n",
    "        id='parti_shadow',\n",
    "        on=True,\n",
    "        label=\"Tegn skygge af Landsparti områderne:\",\n",
    "        labelPosition=\"top\"\n",
    "    ),\n",
    "    daq.BooleanSwitch(\n",
    "        id='parti_shadow_filtered',\n",
    "        on=False,\n",
    "        label=\"Tegn skygge af pt valgt data:\",\n",
    "        labelPosition=\"top\"\n",
    "    ),\n",
    "    dcc.Graph(id='viz'),\n",
    "    html.Div(id=\"svar_res\", children=[\"(her kommer forudsigelser om hvilket parti en 'klikket' politiker burde være i)\"]),\n",
    "    dcc.Markdown('''\n",
    "        # SVAR\n",
    "        ### Tryk på politiker for at se hans svar eller svar selv for at se hvor DU ligger\n",
    "        helt uenig  --  uenig  --  neutral  --  enig  --  helt enig\n",
    "        '''),\n",
    "    html.Div([\n",
    "        dcc.RadioItems(id=spg['id'], options=[{'label': '' if x<4 else spg['question'], 'value': x-2} for x in range(5)],value=0,labelStyle={'display': 'inline-block'}) for spg in spgs\n",
    "    ]),\n",
    "])"
   ]
  },
  {
   "cell_type": "code",
   "execution_count": 150,
   "metadata": {},
   "outputs": [],
   "source": [
    "@app.callback(Output('parti_valg', 'value'), Output('parti_multi_valg', 'value'), Input('parti_multi_valg', 'value'),Input('parti_valg', 'value'))\n",
    "def styr_hurtig_vælgeren(valgte_partier, parti_vælger_radio):\n",
    "    ctx = callback_context\n",
    "    trigger_id = ctx.triggered[0][\"prop_id\"].split(\".\")[0]\n",
    "    if trigger_id == 'parti_valg':\n",
    "        if parti_vælger_radio == 'AP':\n",
    "            return 'AP', [*store_partier, *små_partier]\n",
    "        elif parti_vælger_radio == 'LP':\n",
    "            return 'LP', store_partier\n",
    "        else:\n",
    "            return 'FV', ctx.inputs['parti_multi_valg.value']\n",
    "    else:\n",
    "        if set(valgte_partier) == set(store_partier):\n",
    "            return 'LP', store_partier\n",
    "        elif set(valgte_partier) == set([*store_partier, *små_partier]):\n",
    "            return 'AP', [*store_partier, *små_partier]\n",
    "        else:\n",
    "            return 'FV', ctx.inputs['parti_multi_valg.value']\n",
    "\n",
    "    \n",
    "@app.callback(Output('viz', 'figure'), [Input('kommune_valg', 'value'),Input('parti_multi_valg', 'value'), Input('parti_shadow', 'on'), Input('parti_shadow_filtered', 'on')])\n",
    "def update_graph(kom_filter, parti_filter, shadow, shadow_filter):                            \n",
    "    if 'alle' in kom_filter:\n",
    "        a = q[q.parti.isin(parti_filter)]\n",
    "    else:\n",
    "        a = q[q.parti.isin(parti_filter) & q.kommune.isin(kom_filter)]\n",
    "    \n",
    "    f1 = px.scatter(a, x='X',y='y', color='parti', color_discrete_map=color_dict, hover_data=['navn', 'kommune', 'alder'], custom_data=['index'], height=800, width=1200)\n",
    "    if shadow:\n",
    "        for ii, (i, data) in enumerate(q[q.parti.isin(store_partier)].groupby('parti')):\n",
    "            f1.add_shape(\n",
    "                type='path',\n",
    "                path=confidence_ellipse(data.X, data.y),\n",
    "                line_color='rgb(0,0,0,1)',\n",
    "                fillcolor=color_dict[i],\n",
    "                opacity=.2,\n",
    "                )\n",
    "    if shadow_filter:\n",
    "        for ii, (i, data) in enumerate(a.groupby('parti')):\n",
    "            f1.add_shape(\n",
    "                type='path',\n",
    "                path=confidence_ellipse(data.X, data.y),\n",
    "                line_color='rgb(0,0,0,1)',\n",
    "                fillcolor=color_dict[i],\n",
    "                opacity=.2,\n",
    "                )\n",
    "\n",
    "    return f1\n",
    "\n",
    "@app.callback([*[Output(x, 'value') for x in dk_spg], Output('svar_res', 'children')], {'clickData': Input('viz', 'clickData'), 'spg_in': [Input(x, 'value') for x in dk_spg]})\n",
    "def display_click_data(clickData, spg_in):\n",
    "    ctx = callback_context\n",
    "    trigger_id = ctx.triggered[0][\"prop_id\"].split(\".\")[0]\n",
    "    if trigger_id == 'viz':\n",
    "        if clickData and len(clickData['points']) != 0:\n",
    "            idx = clickData['points'][0]['customdata'][0]\n",
    "            navn = clickData['points'][0]['customdata'][1]\n",
    "        else:\n",
    "            idx = 1350\n",
    "            navn = \"(klik på nogen)\"\n",
    "        row = q[q['index'] == idx]\n",
    "        parti = row['parti'].iloc[0]\n",
    "        nyt_parti = lda.predict(row[dk_spg])[0]\n",
    "        return [*[row[x].iloc[0] for x in dk_spg], f\"Du har klikket på {navn}, {parti}. Vedkomne burde overveje {nyt_parti}\"]\n",
    "    else:\n",
    "        print(spg_in)\n",
    "        a = np.array(spg_in).reshape(1,-1)\n",
    "        b = lda.transform(a)[0]\n",
    "        return [*[x for x in spg_in], f\"Dine koordinater er {b[0]:.1f}, {b[1]:.1f}. Du burde overveje {lda.predict(a)[0]}\"]\n",
    "#@app.callback(Output(), [Input(x, 'value') for x in dk_spg])"
   ]
  },
  {
   "cell_type": "code",
   "execution_count": 151,
   "metadata": {},
   "outputs": [
    {
     "name": "stderr",
     "output_type": "stream",
     "text": [
      "/home/laeb/.pyenv/versions/3.9.7/envs/kv2021/lib/python3.9/site-packages/jupyter_dash/jupyter_app.py:139: UserWarning:\n",
      "\n",
      "The 'environ['werkzeug.server.shutdown']' function is deprecated and will be removed in Werkzeug 2.1.\n",
      "\n"
     ]
    },
    {
     "name": "stdout",
     "output_type": "stream",
     "text": [
      "[0, 0, 0, 0, 0, 0, 0, 0, 0, 0, 0, 0, 0, 0, 0, 0, 0, 0, 0, 0]\n"
     ]
    },
    {
     "name": "stderr",
     "output_type": "stream",
     "text": [
      "/home/laeb/.pyenv/versions/3.9.7/envs/kv2021/lib/python3.9/site-packages/sklearn/base.py:445: UserWarning:\n",
      "\n",
      "X does not have valid feature names, but LinearDiscriminantAnalysis was fitted with feature names\n",
      "\n",
      "/home/laeb/.pyenv/versions/3.9.7/envs/kv2021/lib/python3.9/site-packages/sklearn/base.py:445: UserWarning:\n",
      "\n",
      "X does not have valid feature names, but LinearDiscriminantAnalysis was fitted with feature names\n",
      "\n"
     ]
    },
    {
     "name": "stdout",
     "output_type": "stream",
     "text": [
      "[-2, 0, 0, 0, 0, 0, 0, 0, 0, 0, 0, 0, 0, 0, 0, 0, 0, 0, 0, 0]\n"
     ]
    },
    {
     "name": "stderr",
     "output_type": "stream",
     "text": [
      "/home/laeb/.pyenv/versions/3.9.7/envs/kv2021/lib/python3.9/site-packages/sklearn/base.py:445: UserWarning:\n",
      "\n",
      "X does not have valid feature names, but LinearDiscriminantAnalysis was fitted with feature names\n",
      "\n",
      "/home/laeb/.pyenv/versions/3.9.7/envs/kv2021/lib/python3.9/site-packages/sklearn/base.py:445: UserWarning:\n",
      "\n",
      "X does not have valid feature names, but LinearDiscriminantAnalysis was fitted with feature names\n",
      "\n"
     ]
    },
    {
     "name": "stdout",
     "output_type": "stream",
     "text": [
      "[-2, -2, 0, 0, 0, 0, 0, 0, 0, 0, 0, 0, 0, 0, 0, 0, 0, 0, 0, 0]\n"
     ]
    },
    {
     "name": "stderr",
     "output_type": "stream",
     "text": [
      "/home/laeb/.pyenv/versions/3.9.7/envs/kv2021/lib/python3.9/site-packages/sklearn/base.py:445: UserWarning:\n",
      "\n",
      "X does not have valid feature names, but LinearDiscriminantAnalysis was fitted with feature names\n",
      "\n",
      "/home/laeb/.pyenv/versions/3.9.7/envs/kv2021/lib/python3.9/site-packages/sklearn/base.py:445: UserWarning:\n",
      "\n",
      "X does not have valid feature names, but LinearDiscriminantAnalysis was fitted with feature names\n",
      "\n"
     ]
    },
    {
     "name": "stdout",
     "output_type": "stream",
     "text": [
      "[-2, -2, -2, 0, 0, 0, 0, 0, 0, 0, 0, 0, 0, 0, 0, 0, 0, 0, 0, 0]\n"
     ]
    },
    {
     "name": "stderr",
     "output_type": "stream",
     "text": [
      "/home/laeb/.pyenv/versions/3.9.7/envs/kv2021/lib/python3.9/site-packages/sklearn/base.py:445: UserWarning:\n",
      "\n",
      "X does not have valid feature names, but LinearDiscriminantAnalysis was fitted with feature names\n",
      "\n",
      "/home/laeb/.pyenv/versions/3.9.7/envs/kv2021/lib/python3.9/site-packages/sklearn/base.py:445: UserWarning:\n",
      "\n",
      "X does not have valid feature names, but LinearDiscriminantAnalysis was fitted with feature names\n",
      "\n"
     ]
    },
    {
     "name": "stdout",
     "output_type": "stream",
     "text": [
      "[-2, -2, -2, -2, 0, 0, 0, 0, 0, 0, 0, 0, 0, 0, 0, 0, 0, 0, 0, 0]\n"
     ]
    },
    {
     "name": "stderr",
     "output_type": "stream",
     "text": [
      "/home/laeb/.pyenv/versions/3.9.7/envs/kv2021/lib/python3.9/site-packages/sklearn/base.py:445: UserWarning:\n",
      "\n",
      "X does not have valid feature names, but LinearDiscriminantAnalysis was fitted with feature names\n",
      "\n",
      "/home/laeb/.pyenv/versions/3.9.7/envs/kv2021/lib/python3.9/site-packages/sklearn/base.py:445: UserWarning:\n",
      "\n",
      "X does not have valid feature names, but LinearDiscriminantAnalysis was fitted with feature names\n",
      "\n"
     ]
    },
    {
     "name": "stdout",
     "output_type": "stream",
     "text": [
      "[-2, -2, -2, -2, -2, 0, 0, 0, 0, 0, 0, 0, 0, 0, 0, 0, 0, 0, 0, 0]\n"
     ]
    },
    {
     "name": "stderr",
     "output_type": "stream",
     "text": [
      "/home/laeb/.pyenv/versions/3.9.7/envs/kv2021/lib/python3.9/site-packages/sklearn/base.py:445: UserWarning:\n",
      "\n",
      "X does not have valid feature names, but LinearDiscriminantAnalysis was fitted with feature names\n",
      "\n",
      "/home/laeb/.pyenv/versions/3.9.7/envs/kv2021/lib/python3.9/site-packages/sklearn/base.py:445: UserWarning:\n",
      "\n",
      "X does not have valid feature names, but LinearDiscriminantAnalysis was fitted with feature names\n",
      "\n"
     ]
    },
    {
     "name": "stdout",
     "output_type": "stream",
     "text": [
      "[-2, -2, -2, -2, -2, -2, 0, 0, 0, 0, 0, 0, 0, 0, 0, 0, 0, 0, 0, 0]\n"
     ]
    },
    {
     "name": "stderr",
     "output_type": "stream",
     "text": [
      "/home/laeb/.pyenv/versions/3.9.7/envs/kv2021/lib/python3.9/site-packages/sklearn/base.py:445: UserWarning:\n",
      "\n",
      "X does not have valid feature names, but LinearDiscriminantAnalysis was fitted with feature names\n",
      "\n",
      "/home/laeb/.pyenv/versions/3.9.7/envs/kv2021/lib/python3.9/site-packages/sklearn/base.py:445: UserWarning:\n",
      "\n",
      "X does not have valid feature names, but LinearDiscriminantAnalysis was fitted with feature names\n",
      "\n"
     ]
    },
    {
     "name": "stdout",
     "output_type": "stream",
     "text": [
      "[-2, -2, -2, -2, -2, -2, 2, 0, 0, 0, 0, 0, 0, 0, 0, 0, 0, 0, 0, 0]\n"
     ]
    },
    {
     "name": "stderr",
     "output_type": "stream",
     "text": [
      "/home/laeb/.pyenv/versions/3.9.7/envs/kv2021/lib/python3.9/site-packages/sklearn/base.py:445: UserWarning:\n",
      "\n",
      "X does not have valid feature names, but LinearDiscriminantAnalysis was fitted with feature names\n",
      "\n",
      "/home/laeb/.pyenv/versions/3.9.7/envs/kv2021/lib/python3.9/site-packages/sklearn/base.py:445: UserWarning:\n",
      "\n",
      "X does not have valid feature names, but LinearDiscriminantAnalysis was fitted with feature names\n",
      "\n"
     ]
    },
    {
     "name": "stdout",
     "output_type": "stream",
     "text": [
      "[-2, -2, -2, -2, -2, -2, 2, -2, 0, 0, 0, 0, 0, 0, 0, 0, 0, 0, 0, 0]\n"
     ]
    },
    {
     "name": "stderr",
     "output_type": "stream",
     "text": [
      "/home/laeb/.pyenv/versions/3.9.7/envs/kv2021/lib/python3.9/site-packages/sklearn/base.py:445: UserWarning:\n",
      "\n",
      "X does not have valid feature names, but LinearDiscriminantAnalysis was fitted with feature names\n",
      "\n",
      "/home/laeb/.pyenv/versions/3.9.7/envs/kv2021/lib/python3.9/site-packages/sklearn/base.py:445: UserWarning:\n",
      "\n",
      "X does not have valid feature names, but LinearDiscriminantAnalysis was fitted with feature names\n",
      "\n"
     ]
    },
    {
     "name": "stdout",
     "output_type": "stream",
     "text": [
      "[-2, -2, -2, -2, -2, -2, 2, -2, -2, 0, 0, 0, 0, 0, 0, 0, 0, 0, 0, 0]\n"
     ]
    },
    {
     "name": "stderr",
     "output_type": "stream",
     "text": [
      "/home/laeb/.pyenv/versions/3.9.7/envs/kv2021/lib/python3.9/site-packages/sklearn/base.py:445: UserWarning:\n",
      "\n",
      "X does not have valid feature names, but LinearDiscriminantAnalysis was fitted with feature names\n",
      "\n",
      "/home/laeb/.pyenv/versions/3.9.7/envs/kv2021/lib/python3.9/site-packages/sklearn/base.py:445: UserWarning:\n",
      "\n",
      "X does not have valid feature names, but LinearDiscriminantAnalysis was fitted with feature names\n",
      "\n"
     ]
    },
    {
     "name": "stdout",
     "output_type": "stream",
     "text": [
      "[-2, -2, -2, -2, -2, -2, 2, -2, -2, 2, 0, 0, 0, 0, 0, 0, 0, 0, 0, 0]\n"
     ]
    },
    {
     "name": "stderr",
     "output_type": "stream",
     "text": [
      "/home/laeb/.pyenv/versions/3.9.7/envs/kv2021/lib/python3.9/site-packages/sklearn/base.py:445: UserWarning:\n",
      "\n",
      "X does not have valid feature names, but LinearDiscriminantAnalysis was fitted with feature names\n",
      "\n",
      "/home/laeb/.pyenv/versions/3.9.7/envs/kv2021/lib/python3.9/site-packages/sklearn/base.py:445: UserWarning:\n",
      "\n",
      "X does not have valid feature names, but LinearDiscriminantAnalysis was fitted with feature names\n",
      "\n"
     ]
    },
    {
     "name": "stdout",
     "output_type": "stream",
     "text": [
      "[-2, -2, -2, -2, -2, -2, 2, -2, -2, 2, -2, 0, 0, 0, 0, 0, 0, 0, 0, 0]\n"
     ]
    },
    {
     "name": "stderr",
     "output_type": "stream",
     "text": [
      "/home/laeb/.pyenv/versions/3.9.7/envs/kv2021/lib/python3.9/site-packages/sklearn/base.py:445: UserWarning:\n",
      "\n",
      "X does not have valid feature names, but LinearDiscriminantAnalysis was fitted with feature names\n",
      "\n",
      "/home/laeb/.pyenv/versions/3.9.7/envs/kv2021/lib/python3.9/site-packages/sklearn/base.py:445: UserWarning:\n",
      "\n",
      "X does not have valid feature names, but LinearDiscriminantAnalysis was fitted with feature names\n",
      "\n"
     ]
    },
    {
     "name": "stdout",
     "output_type": "stream",
     "text": [
      "[-2, -2, -2, -2, -2, -2, 2, -2, -2, 2, -2, -2, 0, 0, 0, 0, 0, 0, 0, 0]\n"
     ]
    },
    {
     "name": "stderr",
     "output_type": "stream",
     "text": [
      "/home/laeb/.pyenv/versions/3.9.7/envs/kv2021/lib/python3.9/site-packages/sklearn/base.py:445: UserWarning:\n",
      "\n",
      "X does not have valid feature names, but LinearDiscriminantAnalysis was fitted with feature names\n",
      "\n",
      "/home/laeb/.pyenv/versions/3.9.7/envs/kv2021/lib/python3.9/site-packages/sklearn/base.py:445: UserWarning:\n",
      "\n",
      "X does not have valid feature names, but LinearDiscriminantAnalysis was fitted with feature names\n",
      "\n"
     ]
    },
    {
     "name": "stdout",
     "output_type": "stream",
     "text": [
      "[-2, -2, -2, -2, -2, -2, 2, -2, -2, 2, -2, -2, 0, 0, 1, 0, 0, 0, 0, 0]\n"
     ]
    },
    {
     "name": "stderr",
     "output_type": "stream",
     "text": [
      "/home/laeb/.pyenv/versions/3.9.7/envs/kv2021/lib/python3.9/site-packages/sklearn/base.py:445: UserWarning:\n",
      "\n",
      "X does not have valid feature names, but LinearDiscriminantAnalysis was fitted with feature names\n",
      "\n",
      "/home/laeb/.pyenv/versions/3.9.7/envs/kv2021/lib/python3.9/site-packages/sklearn/base.py:445: UserWarning:\n",
      "\n",
      "X does not have valid feature names, but LinearDiscriminantAnalysis was fitted with feature names\n",
      "\n"
     ]
    },
    {
     "name": "stdout",
     "output_type": "stream",
     "text": [
      "[-2, -2, -2, -2, -2, -2, 2, -2, -2, 2, -2, -2, 0, 0, 1, 0, 0, 0, 0, -2]\n"
     ]
    },
    {
     "name": "stderr",
     "output_type": "stream",
     "text": [
      "/home/laeb/.pyenv/versions/3.9.7/envs/kv2021/lib/python3.9/site-packages/sklearn/base.py:445: UserWarning:\n",
      "\n",
      "X does not have valid feature names, but LinearDiscriminantAnalysis was fitted with feature names\n",
      "\n",
      "/home/laeb/.pyenv/versions/3.9.7/envs/kv2021/lib/python3.9/site-packages/sklearn/base.py:445: UserWarning:\n",
      "\n",
      "X does not have valid feature names, but LinearDiscriminantAnalysis was fitted with feature names\n",
      "\n"
     ]
    },
    {
     "name": "stdout",
     "output_type": "stream",
     "text": [
      "[-2, -2, -2, -2, -2, -2, 2, -2, -2, 2, -2, -2, 0, 0, 1, 0, 0, 0, -2, -2]\n"
     ]
    },
    {
     "name": "stderr",
     "output_type": "stream",
     "text": [
      "/home/laeb/.pyenv/versions/3.9.7/envs/kv2021/lib/python3.9/site-packages/sklearn/base.py:445: UserWarning:\n",
      "\n",
      "X does not have valid feature names, but LinearDiscriminantAnalysis was fitted with feature names\n",
      "\n",
      "/home/laeb/.pyenv/versions/3.9.7/envs/kv2021/lib/python3.9/site-packages/sklearn/base.py:445: UserWarning:\n",
      "\n",
      "X does not have valid feature names, but LinearDiscriminantAnalysis was fitted with feature names\n",
      "\n"
     ]
    },
    {
     "name": "stdout",
     "output_type": "stream",
     "text": [
      "[-2, -2, -2, -2, -2, -2, 2, -2, -2, 2, -2, -2, 0, 0, 1, 0, 0, -2, -2, -2]\n"
     ]
    },
    {
     "name": "stderr",
     "output_type": "stream",
     "text": [
      "/home/laeb/.pyenv/versions/3.9.7/envs/kv2021/lib/python3.9/site-packages/sklearn/base.py:445: UserWarning:\n",
      "\n",
      "X does not have valid feature names, but LinearDiscriminantAnalysis was fitted with feature names\n",
      "\n",
      "/home/laeb/.pyenv/versions/3.9.7/envs/kv2021/lib/python3.9/site-packages/sklearn/base.py:445: UserWarning:\n",
      "\n",
      "X does not have valid feature names, but LinearDiscriminantAnalysis was fitted with feature names\n",
      "\n"
     ]
    },
    {
     "name": "stdout",
     "output_type": "stream",
     "text": [
      "[-2, -2, -2, -2, -2, -2, 2, -2, -2, 2, -2, -2, 0, 0, 1, 0, -2, -2, -2, -2]\n"
     ]
    },
    {
     "name": "stderr",
     "output_type": "stream",
     "text": [
      "/home/laeb/.pyenv/versions/3.9.7/envs/kv2021/lib/python3.9/site-packages/sklearn/base.py:445: UserWarning:\n",
      "\n",
      "X does not have valid feature names, but LinearDiscriminantAnalysis was fitted with feature names\n",
      "\n",
      "/home/laeb/.pyenv/versions/3.9.7/envs/kv2021/lib/python3.9/site-packages/sklearn/base.py:445: UserWarning:\n",
      "\n",
      "X does not have valid feature names, but LinearDiscriminantAnalysis was fitted with feature names\n",
      "\n"
     ]
    }
   ],
   "source": [
    "app.run_server(mode=\"jupyterlab\")"
   ]
  },
  {
   "cell_type": "code",
   "execution_count": 113,
   "metadata": {},
   "outputs": [
    {
     "data": {
      "text/plain": [
       "{0: 'x', 1: 'x', 2: 'x', 3: 'x', 4: 'x', 7: 'y'}"
      ]
     },
     "execution_count": 113,
     "metadata": {},
     "output_type": "execute_result"
    }
   ],
   "source": [
    "{**{x:\"x\" for x in range(5)}, 7:\"y\"}"
   ]
  },
  {
   "cell_type": "code",
   "execution_count": 146,
   "metadata": {},
   "outputs": [
    {
     "name": "stderr",
     "output_type": "stream",
     "text": [
      "/home/laeb/.pyenv/versions/3.9.7/envs/kv2021/lib/python3.9/site-packages/sklearn/base.py:445: UserWarning:\n",
      "\n",
      "X does not have valid feature names, but LinearDiscriminantAnalysis was fitted with feature names\n",
      "\n"
     ]
    },
    {
     "data": {
      "text/plain": [
       "'0.5, -4.2'"
      ]
     },
     "execution_count": 146,
     "metadata": {},
     "output_type": "execute_result"
    }
   ],
   "source": [
    "a = np.array([-2, 0, 0, -1, 0, 0, 2, 1, 2, -2, -1, -1, 0, 0, 0, 1, -1, 2, -1, 0]).reshape(1,-1)\n",
    "b = lda.transform(a)[0]\n",
    "f\"{b[0]:.1f}, {b[1]:.1f}\""
   ]
  },
  {
   "cell_type": "code",
   "execution_count": 148,
   "metadata": {},
   "outputs": [
    {
     "name": "stderr",
     "output_type": "stream",
     "text": [
      "/home/laeb/.pyenv/versions/3.9.7/envs/kv2021/lib/python3.9/site-packages/sklearn/base.py:445: UserWarning:\n",
      "\n",
      "X does not have valid feature names, but LinearDiscriminantAnalysis was fitted with feature names\n",
      "\n"
     ]
    },
    {
     "data": {
      "text/plain": [
       "'Dansk Folkeparti'"
      ]
     },
     "execution_count": 148,
     "metadata": {},
     "output_type": "execute_result"
    }
   ],
   "source": [
    "lda.predict(a)[0]"
   ]
  },
  {
   "cell_type": "code",
   "execution_count": null,
   "metadata": {},
   "outputs": [],
   "source": []
  }
 ],
 "metadata": {
  "jupytext": {
   "formats": "ipynb,py:percent"
  },
  "kernelspec": {
   "display_name": "Python 3 (ipykernel)",
   "language": "python",
   "name": "python3"
  },
  "language_info": {
   "codemirror_mode": {
    "name": "ipython",
    "version": 3
   },
   "file_extension": ".py",
   "mimetype": "text/x-python",
   "name": "python",
   "nbconvert_exporter": "python",
   "pygments_lexer": "ipython3",
   "version": "3.9.7"
  }
 },
 "nbformat": 4,
 "nbformat_minor": 4
}
